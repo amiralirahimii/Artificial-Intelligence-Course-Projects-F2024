{
 "cells": [
  {
   "cell_type": "markdown",
   "metadata": {},
   "source": [
    "<h1 style=\"text-align: center; font-weight: bold;\">Amirali Rahimi 810100146</h1>\n",
    "<h1 style=\"text-align: center;\">CA1 - Genetic</h1>"
   ]
  },
  {
   "cell_type": "markdown",
   "metadata": {},
   "source": [
    "### Intro\n",
    "In this project, we are going to solve curve fitting with *genetic algorithm*."
   ]
  },
  {
   "cell_type": "markdown",
   "metadata": {},
   "source": [
    "### Part 1) Define basic concepts   \n",
    "First of all, we specify the chromosome we are using. Every chromosome is a list of integer and each integer shows the coefficent of the corresponding degree. For example, the chromosome $[1 , 5 , 2]$, shows us that the given polynomial is $ 1+5x+2x^2 $. And by the defenition of generation in `Genetic Algorithm`, Every generation, is made of some chromosomes. Therfore the implementation of `Chromosome` and `Generation` is like this:"
   ]
  },
  {
   "cell_type": "code",
   "execution_count": 31,
   "metadata": {},
   "outputs": [],
   "source": [
    "import random\n",
    "import copy\n",
    "import matplotlib.pyplot as plt\n",
    "import numpy as np\n",
    "from dataclasses import dataclass\n",
    "from typing import List\n",
    "\n",
    "Chromosome = List[int]\n",
    "Generation = List[Chromosome]"
   ]
  },
  {
   "cell_type": "markdown",
   "metadata": {},
   "source": [
    "\n",
    " The curve fitting problem have 3 inputs which are:\n",
    "- *`polynomial degree`*: Degree of the given polynomial equation\n",
    "- *`coefficent ranges`*: The ranges that every coeffiecnt can be in\n",
    "- *`points`*: Given points that we want to apply curve fitting on   \n",
    "We store this inputs in a dataclass named `Input`. There are some datas that can be stored in a new datatype such as `Range` and `Point`."
   ]
  },
  {
   "cell_type": "code",
   "execution_count": 32,
   "metadata": {},
   "outputs": [],
   "source": [
    "class Range:\n",
    "    start:int\n",
    "    end:int\n",
    "    def __init__(self, start, end):\n",
    "        self.start = start\n",
    "        self.end = end\n",
    "    def __str__(self) -> str:\n",
    "        return f\"[{self.start} , {self.end}]\"\n",
    "    def __repr__(self) -> str:\n",
    "        return str(self)\n",
    "    \n",
    "class Point:\n",
    "    x:float\n",
    "    y:float\n",
    "    def __init__(self, x, y):\n",
    "        self.x = x\n",
    "        self.y = y\n",
    "    def __str__(self) -> str:\n",
    "        return f\"Point({self.x} , {self.y})\"\n",
    "    def __repr__(self) -> str:\n",
    "        return str(self)\n",
    "    \n",
    "@dataclass\n",
    "class Input:\n",
    "    polynomialDegree:int\n",
    "    coEffRanges:List[Range]\n",
    "    points:List[Point]"
   ]
  },
  {
   "cell_type": "markdown",
   "metadata": {},
   "source": [
    "There is another dataclass called `HyperParams class` which contains different hyper parameters of the genetic algorithm. The considered hyper parameter for this GA is:\n",
    "- *`crossOverProb`*: Probabilty of a cross over happening between 2 chromosomes\n",
    "- *`crossOverFlipProb`*: Probabilty of switching to the other parent in the middle of a cross over\n",
    "- *`mutationProb`*:Probabilty of a gene to be changed(not the probabilty of mutation happening to a chromsome)\n",
    "- *`population`*: population of the generations\n",
    "- *`moveToNextGen`*: Percentage of the whole chromosomes to be considered as top chromosomes and go to next generation directly\n",
    "- *`maxGeneration`*: Total number of generations the algorithm will create to find the solution"
   ]
  },
  {
   "cell_type": "code",
   "execution_count": 33,
   "metadata": {},
   "outputs": [],
   "source": [
    "@dataclass\n",
    "class HyperParams:\n",
    "    crossOverProb:float\n",
    "    crossOverFlipProb:float\n",
    "    mutationProb:float\n",
    "    population:int\n",
    "    moveToNextGen:float\n",
    "    maxGeneartion:int"
   ]
  },
  {
   "cell_type": "markdown",
   "metadata": {},
   "source": [
    "After implementing the dataclasses and new datatypes, we want to generate some points of the polynomial. Since this task is time consuming to do manually, we make a new function to do it for us."
   ]
  },
  {
   "cell_type": "code",
   "execution_count": 34,
   "metadata": {},
   "outputs": [],
   "source": [
    "def generatePoints(number:int, coEffs:List[int], givenRange)->List[Point]:\n",
    "    points : List[Point] = []\n",
    "    for i in range(0, number):\n",
    "        point = Point(0,0)\n",
    "        point.x = random.randint(givenRange.start, givenRange.end)\n",
    "        point.y = 0\n",
    "        for j in range(0,len(coEffs)):\n",
    "            point.y += coEffs[j]*pow(point.x, j)\n",
    "        points.append(point)\n",
    "    return points"
   ]
  },
  {
   "cell_type": "markdown",
   "metadata": {},
   "source": [
    "### Part 2) Generate Primary Generation    \n",
    "We implement a new function named `generateFirstGeneration` which generates our first generation."
   ]
  },
  {
   "cell_type": "code",
   "execution_count": 35,
   "metadata": {},
   "outputs": [],
   "source": [
    "def generateFirstGeneration(population:int, coEffRanges:List[Range])->Generation:\n",
    "    generation : Generation = []\n",
    "    for i in range(0, population):\n",
    "        chromosome : Chromosome = []\n",
    "        for j in range(0, len(coEffRanges)):\n",
    "            chromosome.append(random.randint(coEffRanges[j].start, coEffRanges[j].end))\n",
    "        generation.append(chromosome)\n",
    "    return generation"
   ]
  },
  {
   "cell_type": "markdown",
   "metadata": {},
   "source": [
    "### Part 3) Defenition and Implementation of Fitness Function    \n",
    "We define a `unFitness` that shows how much a choromosome is unfit, so the less a chromosome is unfit, the more its fit. Therefore `the unfitness value for the true answer is 0`. The unFitness value for each choromosome is calculated with this equation: $$ unFitness_{Chromosome} =  \\frac{1}{N} \\displaystyle\\sum_{i} \\Biggl[point_i.y - \\displaystyle\\sum_{j} \\biggl( chromosome_j*\\Bigl(point_i.x\\Bigr)^j\\biggr)\\Biggr]^2$$"
   ]
  },
  {
   "cell_type": "code",
   "execution_count": 36,
   "metadata": {},
   "outputs": [],
   "source": [
    "def findUnFitness(points:List[Point], chromosome:Chromosome)->int:\n",
    "    error = 0\n",
    "    for i in range(0,len(points)):\n",
    "        calculatedY = 0\n",
    "        for j in range(0, len(chromosome)):\n",
    "            calculatedY += chromosome[j]*pow(points[i].x, j)\n",
    "        error += pow(calculatedY - points[i].y, 2)\n",
    "    variance = error / len(points)\n",
    "    return variance\n",
    "             "
   ]
  },
  {
   "cell_type": "markdown",
   "metadata": {},
   "source": [
    "### Part 4)\n",
    "After defening the chromosome and the fitness function for the problem, we need to define crossOver and mutation functions which are used in other functions that I will explain later. So the functions are:\n",
    "- `crossOver`: This function takes two chromosomes as the parent chromosomes and generate two childeren (We have a auxiliary function named generateChild). The algorithm that we used here is that for generating each child, we start to inherit from the first parent and keeps copying every gene of that parent to the child. In each gene that we iterate through, we change the inheritence to the other parent by the chance of `crossOverFlipProb`. And finally the function, returns these two generated childerene.\n",
    "- `mutationInPool`: This function, takes a pool of chromosome and iterate through every gene of each chromosome and change the gene with probabilty of `mutationProb`. Finally the function returns a pool that some of chromosomes are mutated in it."
   ]
  },
  {
   "cell_type": "code",
   "execution_count": 37,
   "metadata": {},
   "outputs": [],
   "source": [
    "def generateChild(chr1:Chromosome, chr2:Chromosome, crossOverFlipProb:float)->Chromosome:\n",
    "    child : Chromosome = []\n",
    "    choosingFrom = \"chr1\"\n",
    "    for i in range(0, len(chr1)):\n",
    "        randFloat = random.uniform(0, 1)\n",
    "        if(choosingFrom==\"chr1\" and randFloat>crossOverFlipProb):\n",
    "            child.append(chr1[i])\n",
    "        elif(choosingFrom==\"chr1\" and randFloat<=crossOverFlipProb):\n",
    "            child.append(chr2[i])\n",
    "            choosingFrom = \"chr2\"\n",
    "        elif(choosingFrom==\"chr2\" and randFloat>crossOverFlipProb):\n",
    "            child.append(chr2[i])\n",
    "        else:\n",
    "            child.append(chr1[i])\n",
    "            choosingFrom = \"chr1\"\n",
    "    return child"
   ]
  },
  {
   "cell_type": "code",
   "execution_count": 38,
   "metadata": {},
   "outputs": [],
   "source": [
    "def crossOver(chr1:Chromosome, chr2:Chromosome, crossOverProb:float, crossOverFlipProb:float)->(Chromosome,Chromosome):\n",
    "    childOne : Chromosome = []\n",
    "    childTwo : Chromosome = []\n",
    "    randFloat = random.uniform(0, 1)\n",
    "    if(randFloat > crossOverProb):\n",
    "        return [chr1, chr2]\n",
    "    childOne = generateChild(chr1, chr2, crossOverFlipProb)\n",
    "    childTwo = generateChild(chr1, chr2, crossOverFlipProb)\n",
    "    return childOne, childTwo\n",
    "    "
   ]
  },
  {
   "cell_type": "code",
   "execution_count": 39,
   "metadata": {},
   "outputs": [],
   "source": [
    "def mutationInPool(pool:List[Chromosome], mutationProb, coEffRanges:List[Range])->List[Chromosome]:\n",
    "    newPool = copy.deepcopy(pool)\n",
    "    for i in range(0, len(newPool)):\n",
    "        for j in range(0, len(newPool[i])):\n",
    "            randFloat = random.uniform(0, 1)\n",
    "            if(randFloat<mutationProb):\n",
    "                newPool[i][j] = random.randint(coEffRanges[j].start, coEffRanges[j].end)\n",
    "    return newPool"
   ]
  },
  {
   "cell_type": "markdown",
   "metadata": {},
   "source": [
    "Before using the crossOver on the generation, `we need to create a mating pool` as we learned in the genetic algorithm. For this purpose, we need to sort the generation at first and after that, return a pool based on the algorithm we are using to generate the pool. in this function named `createMatingPool`, we assumed that `the passed generation is sorted`.    \n",
    "We create this pool by the `rank-based-selection`. It means that if the generation has $100$ chromosomes, and the unfitness value for the sorted generation looks like this: $x_1<x_2<x_3<...<x_{100}$ the chance of choosing them is like this: $x_1=100k,x_2=99k,x_3=98k,...,x_{100}=k$"
   ]
  },
  {
   "cell_type": "code",
   "execution_count": 40,
   "metadata": {},
   "outputs": [],
   "source": [
    "def createMatingPool(sortedGeneration:Generation)->List[Chromosome]:\n",
    "    weights = []\n",
    "    for i in range(0, len(sortedGeneration)):\n",
    "        weights.append(i+1)\n",
    "    matingPoolSize = len(sortedGeneration)\n",
    "    matingPool = random.choices(sortedGeneration, weights=weights, k=matingPoolSize)\n",
    "    return matingPool"
   ]
  },
  {
   "cell_type": "markdown",
   "metadata": {},
   "source": [
    "After defining the `crossOver` funtion and `createMatingPool`, we are ready to do the cross over operation in the created pool. So this function functionality is pretty simple, we get mating pool and call crossOver function for every pair in the pool."
   ]
  },
  {
   "cell_type": "code",
   "execution_count": 41,
   "metadata": {},
   "outputs": [],
   "source": [
    "def doCrossOverInPool(matingPool:List[Chromosome], crossOverProb:float, crossOverFlipProb:float)->List[Chromosome]:\n",
    "    crossedPool : List[Chromosome] = []\n",
    "    for i in range(0,len(matingPool),2):\n",
    "        child1, child2 = crossOver(matingPool[i],matingPool[i+1],crossOverProb,crossOverFlipProb)\n",
    "        crossedPool.append(child1)\n",
    "        crossedPool.append(child2)\n",
    "    return crossedPool"
   ]
  },
  {
   "cell_type": "markdown",
   "metadata": {},
   "source": [
    "### Part 5) Apply Genetic Algorithm on Problem\n",
    "Here we have all the needed functions and we just need to apply those just where we need to. So we define some stages that helps understanding what the process is like:\n",
    "- `Create First Generation`: Here we create our first generation using our `generateFirstGeneration` function\n",
    "- `Sort The Generation`: Since our `createMatingPool` functions need a sorted generation, we sort the generation by each chromosome unFitness value that is calculated with `findUnFitness` function\n",
    "- `Check Return Condition`: We should stop the algorithm if we have reached the maximum generated generations or found the soultion. So after sorting the generation, we check the best chromsome of this generation's unFitness value and if it was equal to $0$, we return `(True, answer)`. Else, we check the generationNum and if it had reached the limit, we return the `(False, best chromsome of the generation)`.\n",
    "- `Carry Top Chromosomes`: Before doing cross over and mutation operations, we carry some top chromosomes of the generation directly into next generation based on `moveToNextGen` hyper parameter.(They also `participate` in cross over and mutation)\n",
    "- `Create Mating Pool`: Now we need to create a pool to apply the cross over on. The only thing to note is that the pool size is equal to generation size.\n",
    "- `Do Cross Over in Pool`: Now the pool is ready to apply cross over on it's chromosomes. So we do so.\n",
    "- `Do Mutation in Pool` : Here we have a pool which are crossed over. So we apply mutation function on the pool.\n",
    "- `Next Generation is Ready`: After all, we have all the chromosomes we need to generate the next generation. We had $moveToNextGen*generationSize$ chromosomes from earlier, so we pick $(1-moveToNextGen)*generationSize$ from the `final pool` which causes the next generation size to be equal to previous generation.\n"
   ]
  },
  {
   "cell_type": "code",
   "execution_count": 42,
   "metadata": {},
   "outputs": [],
   "source": [
    "def solve(inp:Input, hypParam:HyperParams)->(bool, Chromosome, List[Chromosome], List[int]):\n",
    "    bestChrs : List[Chromosome] = []\n",
    "    unFitnessChanges : List[int] = []\n",
    "    nextGen = generateFirstGeneration(hypParam.population, inp.coEffRanges)\n",
    "    generationNum = 1\n",
    "    while(True):\n",
    "        currGen = copy.deepcopy(nextGen)\n",
    "        # print(\"CURRGEN\",currGen)\n",
    "        unFitness = [findUnFitness(inp.points, currGen[i]) for i in range(len(currGen))]\n",
    "        sortedTuple = sorted(zip(currGen, unFitness), key=lambda pair:pair[1])\n",
    "        sortedUnfitness = [pair[1] for pair in sortedTuple]\n",
    "        sortedGen = [pair[0] for pair in sortedTuple]\n",
    "        unFitnessChanges.append(sortedUnfitness[0])\n",
    "        bestChrs.append(sortedGen[0])\n",
    "        \n",
    "        if(sortedUnfitness[0] == 0):\n",
    "            return True, sortedGen[0], bestChrs, unFitnessChanges\n",
    "        elif(generationNum>=hypParam.maxGeneartion):\n",
    "            return False, sortedGen[0], bestChrs, unFitnessChanges\n",
    "        \n",
    "        moveToNextNum = int(hypParam.moveToNextGen*hypParam.population)\n",
    "        straightToNext = copy.deepcopy(sortedGen[:moveToNextNum])\n",
    "        # print(\"STRAIGHT\",straightToNext)\n",
    "        \n",
    "        matingPool = createMatingPool(currGen)\n",
    "        crossedPool = doCrossOverInPool(matingPool, hypParam.crossOverProb, hypParam.crossOverFlipProb)\n",
    "        mutatedPool = mutationInPool(crossedPool, hypParam.mutationProb, inp.coEffRanges)\n",
    "        # print(\"MUTATED\",mutatedPool)\n",
    "        nextGen = straightToNext + mutatedPool[:hypParam.population-moveToNextNum]\n",
    "        generationNum += 1\n",
    "        \n",
    "    "
   ]
  },
  {
   "cell_type": "code",
   "execution_count": 43,
   "metadata": {},
   "outputs": [],
   "source": [
    "def plot(solved, coEffs, unFitnessChanges):\n",
    "    print(solved)\n",
    "    x = np.linspace(-10, 10, 100)\n",
    "    y1 = np.polyval(coEffs, x)\n",
    "    y2 = np.polyval(solved, x)\n",
    "    plt.plot(x, y1)\n",
    "    plt.plot(x, y2, marker='o', linestyle='None', markersize=1, markeredgewidth=1, markerfacecolor='white', markeredgecolor='red')\n",
    "    plt.title('found soultion and the primary input')\n",
    "    plt.show()\n",
    "    \n",
    "    x = list(range(1, len(unFitnessChanges) + 1))\n",
    "    plt.title('change of unFitness')\n",
    "    plt.plot(x, unFitnessChanges)\n",
    "\n",
    "    plt.show()\n",
    "    \n",
    "    "
   ]
  },
  {
   "cell_type": "markdown",
   "metadata": {},
   "source": [
    "Here we just initialize Input and HyperParam and call solve function with these inputs."
   ]
  },
  {
   "cell_type": "code",
   "execution_count": 44,
   "metadata": {},
   "outputs": [
    {
     "name": "stdout",
     "output_type": "stream",
     "text": [
      "True [12, 9, 2, -13] 0.0\n",
      "[12, 9, 2, -13]\n"
     ]
    },
    {
     "data": {
      "image/png": "[encoded data removed]",
      "text/plain": [
       "<Figure size 640x480 with 1 Axes>"
      ]
     },
     "metadata": {},
     "output_type": "display_data"
    },
    {
     "data": {
      "image/png": "[encoded data removed]",
      "text/plain": [
       "<Figure size 640x480 with 1 Axes>"
      ]
     },
     "metadata": {},
     "output_type": "display_data"
    }
   ],
   "source": [
    "inp = Input(\n",
    "    polynomialDegree = 3,\n",
    "    coEffRanges = [Range(-10,10), Range(-10,10), Range(-10,10)],\n",
    "    points = [Point(0,1), Point(-1,0), Point(1,5)]\n",
    ")\n",
    "\n",
    "hypParam = HyperParams(\n",
    "    crossOverProb = 0.75,\n",
    "    crossOverFlipProb = 0.2,\n",
    "    mutationProb = 0.05,\n",
    "    population = 400,\n",
    "    moveToNextGen = 0.1,\n",
    "    maxGeneartion = 2000\n",
    ")\n",
    "\n",
    "solved, result, bestChrOfGens, unFitnessChanges = solve(inp, hypParam)\n",
    "print(solved, result, unFitnessChanges[-1])\n",
    "plot(result, [0,-5,0,2,-1], unFitnessChanges)"
   ]
  },
  {
   "cell_type": "code",
   "execution_count": 45,
   "metadata": {},
   "outputs": [
    {
     "name": "stdout",
     "output_type": "stream",
     "text": [
      "[Point(-84 , -50972124), Point(-24 , -359304), Point(1 , -4), Point(-48 , -5529360), Point(17 , -73780)]\n"
     ]
    }
   ],
   "source": [
    "thisRange = Range(-100, 100)\n",
    "coEfficents = [0,-5,0,2,-1]\n",
    "points : List[Point] = generatePoints(5, coEfficents, thisRange)\n",
    "print(points)"
   ]
  },
  {
   "cell_type": "markdown",
   "metadata": {},
   "source": [
    "### Part 6) Analysing results\n",
    "\n",
    "<font size=\"5\"> Question 1)</font>What problems very small or very big populations causes?  \n",
    "<font size=\"5\" color=\"#FFFF99\"> Answer)</font> If the population is too big, obviously the algorithm efficency gets ruined and it will take so much time to find the solution. On the other hand, if the population is too small, the variety of chromosomes decreases and it causes the algorithm finding the soultion in much more algorithm steps. `It probably converge faster to a local maximum but we hope we quit this local extermum with a good mutation in more steps`.\n",
    "<hr>\n",
    "\n",
    "<font size=\"5\"> Question 2)</font>Effects of growing population in every geneartion on percision and speed?    \n",
    "<font size=\"5\" color=\"#FFFF99\"> Answer)</font> The problem that we are facing here is that the more we go forward in the algorithm, we keep getting slower because of the population growth. So the speed will `decrease`. But the effect on the algorithm percision is discussable. It completely depends on how we create the added new chromosomes. If we add the cross over result and parents both, we will face the same problem as we add the mutation result with the chromosome itself, which is the added chromosomes aren't much different than the previous chromosomes. The bad thing happening here is that `we neither have the percision of the high amount of population nor the small population speed`.\n",
    "<hr>\n",
    "\n",
    "<font size=\"5\"> Question 3)</font>Effects of cross over and mutation operation and compare them.   \n",
    "<font size=\"5\" color=\"#FFFF99\"> Answer)</font> cross over is designed with the purpose of combining 2 good chromosomes and make the childeren that `covers each parent's flaws`. So hopefully we made a child or two that is a better chromosome than both of the parents. On the other hand mutation is there for `a chromosome that have pretty good genes and is ruined by a bad value of a single gene(or more)`, so after mutating that chromosome and hopefully changing that bad gene, we make a much better chromosome.  \n",
    "Crossover is done with a much higher chance that mutation.  \n",
    "We can't use only one of this operations because each of them is designed for a special purpose and none of them can fill each other's place.\n",
    "Because if we only use cross over, `there is a high chance of getting stuck in a local maximum`, and if we only use mutation, `there is not a special improvement in every generation`, and for fixing this problem `if we increase the mutation chance`, we will face a new problem that this is not a genetic algorithm anymore and `we are literally generating new generations only by chance`. `In this situation algorithm will go through the whole state space`.\n",
    "<hr>\n",
    "\n",
    "<font size=\"5\"> Question 4)</font>Approaches that make the algorithm find the answer faster  \n",
    "<font size=\"5\" color=\"#FFFF99\"> Answer)</font>Changing the `hyper parameters` and assigning the right amount for every one of them,is the best way to make the algorithm run faster.\n",
    "<hr>\n",
    "\n",
    "<font size=\"5\"> Question 5)</font>Solution to stagnated chromosomes and getting stuck  \n",
    "<font size=\"5\" color=\"#FFFF99\"> Answer)</font> The cause of this effect, is `getting stuck` in a local maximum due to `similarity of chromosomes` to each other. Mutation is designed for this particular problem. We can higher the chance of mutation operation. Another solution is to `multi-start` the algorithm.(With new first generation)\n",
    "<hr>\n",
    "\n",
    "<font size=\"5\"> Question 6)</font>Stopping the algorithm if the solution doesn't exist  \n",
    "<font size=\"5\" color=\"#FFFF99\"> Answer)</font> We set a hyper parameter named `maxGenerations` that limits algorithm steps. This can work perfectly with above question approach which is `multi-starting`\n",
    "<hr>\n",
    "\n",
    "<font size=\"5\"> Question 7)</font>How does increasing the polynomial degree affects the algorithm speed?  \n",
    "<font size=\"5\" color=\"#FFFF99\"> Answer)</font> `Intuitively` we can say that if the polynomial degree increases, the algorithm take more time. But if we want to exactly figure out how much more the algorithm takes time, first we need to find the algorithm complexity. Since the algorithm worst case is `to generate all the possible state space`, the complexity of the algorithm is $O(state-space)$. The state space grows exponentially (the chromosome with $10$ genes that every gene has $20$ states, the state space is equal to $20^{10}$) so the `algorithm time, will increase exponentially`.\n",
    "\n",
    "<font size=\"5\"> Question 8)</font>How does increasing or decreasing the number of points affect algorithm time?  \n",
    "<font size=\"5\" color=\"#FFFF99\"> Answer)</font> For `uniquely identifing a curve`, we need one more point than the polynomial degree which we call `uniqueNum`. If we were given less points than uniqueNum, there are $\\infty$ curves that we can match with those points. So `the less points that we are given` (In case these points number are less than unique num), `the less time` it takes to find a curve to fit. But in case  `the points number are greater equal than uniqueNum`, `the more the points are, the more it helps to find the given curve` because our chromosomes unFitness will update better and leads us to answer pretty fast. so in this case, `the slowest answer is when the points number is equal to uniqueNum`, and we get faster solution by increasing the given points number."
   ]
  }
 ],
 "metadata": {
  "kernelspec": {
   "display_name": "Python 3",
   "language": "python",
   "name": "python3"
  },
  "language_info": {
   "codemirror_mode": {
    "name": "ipython",
    "version": 3
   },
   "file_extension": ".py",
   "mimetype": "text/x-python",
   "name": "python",
   "nbconvert_exporter": "python",
   "pygments_lexer": "ipython3",
   "version": "3.11.4"
  }
 },
 "nbformat": 4,
 "nbformat_minor": 2
}
